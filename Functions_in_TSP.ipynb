{
 "cells": [
  {
   "cell_type": "code",
   "execution_count": 1,
   "id": "47e6c520-e698-4d3b-bfb3-cb9c688fa625",
   "metadata": {},
   "outputs": [],
   "source": [
    "import pandas as pd\n",
    "import numpy as np\n",
    "import random\n",
    "import matplotlib.pyplot as plt\n",
    "import math"
   ]
  },
  {
   "cell_type": "code",
   "execution_count": 39,
   "id": "4f051673-9b7d-43bd-9dd2-bb5253ecfc36",
   "metadata": {},
   "outputs": [],
   "source": [
    "def haversin(x):\n",
    "    return math.sin(x)**2\n",
    "\n",
    "def inverse_haversin(x):\n",
    "    return math.asin(math.sqrt(x))\n",
    "\n",
    "def great_circle_dist(a, b, c, d):\n",
    "    haversin_d_over_R = haversin(b - a) + math.cos(a)*math.cos(b)*haversin(d - c)\n",
    "    d_over_R = inverse_haversin(haversin_d_over_R)\n",
    "    d = d_over_R * 6371\n",
    "    return d\n",
    "\n",
    "# reference\n",
    "#https://undergroundmathematics.org/trigonometry-compound-angles/the-great-circle-distance"
   ]
  },
  {
   "cell_type": "code",
   "execution_count": 75,
   "id": "15a46a62-9424-49d2-90f3-ab7df8be8945",
   "metadata": {},
   "outputs": [],
   "source": [
    "def mutate_path(path, mutation_rate):\n",
    "    mutated_path = path.copy()\n",
    "    for i in range(len(path)):\n",
    "        rand_num = np.random.uniform(0, 1)\n",
    "        if rand_num <= mutation_rate:\n",
    "            idx = int(np.random.choice(len(mutated_path), 1))\n",
    "            mutated_path[i], mutated_path[idx] = mutated_path[idx], mutated_path[i]\n",
    "    return mutated_path"
   ]
  },
  {
   "cell_type": "code",
   "execution_count": 41,
   "id": "83808b41-9d17-483d-88e2-a06f30c6a02b",
   "metadata": {},
   "outputs": [],
   "source": [
    "def travel_dist(path, adj_matrix):\n",
    "    total_dist = 0\n",
    "    for idx in range(len(path) - 1):\n",
    "        total_dist += adj_matrix[path[idx], path[idx+1]]\n",
    "    return total_dist"
   ]
  },
  {
   "cell_type": "code",
   "execution_count": 42,
   "id": "13770ea8-82d3-496f-a99b-564ff1db4488",
   "metadata": {},
   "outputs": [],
   "source": [
    "scale_factor = 10**7\n",
    "def fitness_score(path, adj_matrix):\n",
    "    return 1/(travel_dist(path, adj_matrix)) * scale_factor"
   ]
  },
  {
   "cell_type": "code",
   "execution_count": 43,
   "id": "d76ed2c4-ebe7-499d-b3f6-f2107372ffbd",
   "metadata": {},
   "outputs": [],
   "source": [
    "def roulette(sorted_population, adj_matrix):\n",
    "    total_fs = sum(map(lambda x: fitness_score(x, adj_matrix), sorted_population))\n",
    "    random_fs = random.uniform(0, total_fs)\n",
    "    for i in range(len(sorted_population)):\n",
    "        random_fs -= fitness_score(sorted_population[i], adj_matrix)\n",
    "        if random_fs < 0:\n",
    "            return population[i]"
   ]
  },
  {
   "cell_type": "code",
   "execution_count": 44,
   "id": "bf153550-2b39-4bed-b7f1-92f4a56452e4",
   "metadata": {},
   "outputs": [],
   "source": [
    "# Define the order-based crossover function\n",
    "def order_crossover(parent1, parent2):\n",
    "    # Choose a random subset of genes from the first parent\n",
    "    start = np.random.randint(len(parent1))\n",
    "    end = np.random.randint(start, len(parent1))\n",
    "    subset = parent1[start:end+1]\n",
    "    # Initialize the child with the subset\n",
    "    child = [-1] * len(parent1)\n",
    "    child[start:end+1] = subset\n",
    "    # Fill in the remaining genes from the second parent\n",
    "    j = 0\n",
    "    for i in range(len(parent1)):\n",
    "        if not parent2[i] in subset:\n",
    "            while child[j] != -1:\n",
    "                j += 1\n",
    "            child[j] = parent2[i]\n",
    "    return child"
   ]
  },
  {
   "cell_type": "code",
   "execution_count": 84,
   "id": "edbc3521-70f9-4d03-8e2f-afa76bcb15a9",
   "metadata": {},
   "outputs": [],
   "source": [
    "def genetic_algorithm(sorted_population, adj_matrix):\n",
    "\n",
    "    cross_over_perc = 0.8\n",
    "    mutation_rate = 0.1\n",
    "    child_population = []\n",
    "    for _ in range(80):\n",
    "        \n",
    "        parent1 = random.choice(sorted_population)\n",
    "        parent2 = random.choice(sorted_population)\n",
    "        \n",
    "        #parent1 = roulette(sorted_population, adj_matrix)\n",
    "        #parent2 = roulette(sorted_population, adj_matrix)\n",
    "\n",
    "        child = order_crossover(parent1, parent2)\n",
    "        child_population.append(child)\n",
    "\n",
    "    child_population = [mutate_path(child, mutation_rate) for child in child_population]\n",
    "    new_population = child_population + sorted_population[:20]\n",
    "    sorted_population = sorted(new_population, key = lambda x: fitness_score(x, adj_matrix), reverse = True)\n",
    "    return sorted_population"
   ]
  },
  {
   "cell_type": "code",
   "execution_count": 13,
   "id": "f6e4416b-aee8-45af-8a9d-7c1c918f9cfa",
   "metadata": {},
   "outputs": [],
   "source": [
    "def make_adj_matrix(city):\n",
    "    adj_matrix = pd.DataFrame(index = [i for i in range(len(city))], columns = [i for i in range(len(city))])\n",
    "    for i in range(len(city)):\n",
    "        for j in range(len(city)): #set range(i+1) if you want to make a lower triangle\n",
    "            lat1 = math.radians(city.iloc[i, 0])\n",
    "            long1 = math.radians(city.iloc[i, 1])\n",
    "            lat2 = math.radians(city.iloc[j, 0])\n",
    "            long2 = math.radians(city.iloc[j,1])\n",
    "            adj_matrix.iloc[i, j] = great_circle_dist(lat1, lat2, long1, long2)\n",
    "    return np.array(adj_matrix)"
   ]
  },
  {
   "cell_type": "code",
   "execution_count": 10,
   "id": "ec6bc136-ba95-4c92-a48b-27c2b1cf74c9",
   "metadata": {},
   "outputs": [],
   "source": [
    "def find_greedy_path(adj_matrix):\n",
    "    visited_path = [0,]\n",
    "    i = 0\n",
    "    adj_matrix = pd.DataFrame(adj_matrix)\n",
    "    for _ in range(len(adj_matrix)):\n",
    "        adj_matrix = adj_matrix.sort_values(i)\n",
    "        for idx in adj_matrix.index:\n",
    "            if idx not in visited_path:\n",
    "                visited_path.append(idx)\n",
    "                i = idx\n",
    "                break\n",
    "                \n",
    "    return visited_path"
   ]
  },
  {
   "cell_type": "code",
   "execution_count": 11,
   "id": "3d24231c-52c4-471c-bab4-ebcd3d8913f1",
   "metadata": {},
   "outputs": [],
   "source": [
    "def plot_travel(optimal_path, city, plot_title):\n",
    "    plt.plot(city.iloc[optimal_path,:].iloc[:,0], city.iloc[optimal_path,:].iloc[:,1])\n",
    "    plt.title('{}'.format(plot_title))\n",
    "    plt.show()"
   ]
  },
  {
   "cell_type": "code",
   "execution_count": 12,
   "id": "f81ec8fd-f09b-47c5-b91d-27aa4a520d77",
   "metadata": {},
   "outputs": [],
   "source": [
    "def generate_random_population(population_size, num_of_cities):\n",
    "    population = []\n",
    "    for sample in range(population_size):\n",
    "        population.append(random.sample([i for i in range(num_of_cities)], num_of_cities))\n",
    "    return population"
   ]
  },
  {
   "cell_type": "code",
   "execution_count": null,
   "id": "de943419-260b-4948-bf98-809157498b57",
   "metadata": {},
   "outputs": [],
   "source": []
  }
 ],
 "metadata": {
  "kernelspec": {
   "display_name": "Python 3 (ipykernel)",
   "language": "python",
   "name": "python3"
  },
  "language_info": {
   "codemirror_mode": {
    "name": "ipython",
    "version": 3
   },
   "file_extension": ".py",
   "mimetype": "text/x-python",
   "name": "python",
   "nbconvert_exporter": "python",
   "pygments_lexer": "ipython3",
   "version": "3.10.9"
  }
 },
 "nbformat": 4,
 "nbformat_minor": 5
}
