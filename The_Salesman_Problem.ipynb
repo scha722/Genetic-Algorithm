{
 "cells": [
  {
   "cell_type": "markdown",
   "id": "ade43f9d-d8a0-4fe4-a528-e3367ea29cb6",
   "metadata": {},
   "source": [
    "# Functions"
   ]
  },
  {
   "cell_type": "code",
   "execution_count": 201,
   "id": "9b3bbfa4-4d65-40e0-b359-ea16ba52dcc4",
   "metadata": {},
   "outputs": [],
   "source": [
    "def haversin(x):\n",
    "    return math.sin(x)**2\n",
    "\n",
    "def inverse_haversin(x):\n",
    "    return math.asin(math.sqrt(x))\n",
    "\n",
    "def great_circle_dist(a, b, c, d):\n",
    "    haversin_d_over_R = haversin(b - a) + math.cos(a)*math.cos(b)*haversin(d - c)\n",
    "    d_over_R = inverse_haversin(haversin_d_over_R)\n",
    "    d = d_over_R * 6371\n",
    "    return d\n",
    "\n",
    "# reference\n",
    "#https://undergroundmathematics.org/trigonometry-compound-angles/the-great-circle-distance"
   ]
  },
  {
   "cell_type": "markdown",
   "id": "9fed5442-1d38-46ba-a380-24a41c3a0914",
   "metadata": {},
   "source": [
    "## Mutate Path"
   ]
  },
  {
   "cell_type": "code",
   "execution_count": 202,
   "id": "7f4a1679-dcc5-4815-bb89-f9b1182ed039",
   "metadata": {},
   "outputs": [],
   "source": [
    "def mutate_path(mutation_rate, path):\n",
    "    mutated_path = path.copy()\n",
    "    for i in range(len(path)):\n",
    "        rand_num = np.random.uniform(0, 1)\n",
    "        if rand_num <= mutation_rate:\n",
    "            idx = int(np.random.choice(len(mutated_path), 1))\n",
    "            mutated_path[i], mutated_path[idx] = mutated_path[idx], mutated_path[i]\n",
    "    return mutated_path"
   ]
  },
  {
   "cell_type": "code",
   "execution_count": 203,
   "id": "3bf6584d-4512-4891-af06-608fc498d918",
   "metadata": {},
   "outputs": [],
   "source": [
    "def travel_dist(path, adj_matrix):\n",
    "    total_dist = 0\n",
    "    for idx in range(len(path) - 1):\n",
    "        total_dist += adj_matrix[path[idx], path[idx+1]]\n",
    "    return total_dist"
   ]
  },
  {
   "cell_type": "markdown",
   "id": "7a33930c-3aec-463a-94af-e67a19333a01",
   "metadata": {},
   "source": [
    "## Fitness Score"
   ]
  },
  {
   "cell_type": "code",
   "execution_count": 204,
   "id": "d67a69fa-4865-42d0-a229-b85a5c6f2244",
   "metadata": {},
   "outputs": [],
   "source": [
    "scale_factor = 10**7\n",
    "def fitness_score(path, adj_matrix):\n",
    "    return 1/(travel_dist(path, adj_matrix)) * scale_factor"
   ]
  },
  {
   "cell_type": "code",
   "execution_count": 205,
   "id": "681074f8-25e2-4698-9ac4-a4055d8fe8e2",
   "metadata": {},
   "outputs": [
    {
     "data": {
      "text/plain": [
       "16.083148090357266"
      ]
     },
     "execution_count": 205,
     "metadata": {},
     "output_type": "execute_result"
    }
   ],
   "source": [
    "fitness_score(population[0], adj_matrix)"
   ]
  },
  {
   "cell_type": "markdown",
   "id": "dc56b193-375a-4ab1-bb14-3260913fce02",
   "metadata": {},
   "source": [
    "## Order by Fitness Score"
   ]
  },
  {
   "cell_type": "code",
   "execution_count": 206,
   "id": "276e58ce-3fec-45d1-966a-d045f8d218d7",
   "metadata": {},
   "outputs": [],
   "source": [
    "def order_by_fs(adj_matrix, population):\n",
    "    fs_list = list(map(lambda x: fitness_score(x, adj_matrix), population))\n",
    "    for sample, score in zip(population, fs_list):\n",
    "        sample = sample.append(score)\n",
    "    sorted_population = sorted(population, key = lambda x: x[-1])\n",
    "    for sample in sorted_population:\n",
    "        sample.pop(-1)\n",
    "    return sorted_population"
   ]
  },
  {
   "cell_type": "code",
   "execution_count": 207,
   "id": "550cd9d9-4fc9-4967-a1fd-b73af1804de5",
   "metadata": {},
   "outputs": [],
   "source": [
    "sorted_population = sorted(population, key = lambda x: fitness_score(x, adj_matrix), reverse = True)"
   ]
  },
  {
   "cell_type": "markdown",
   "id": "7e46592e-6654-4d8c-aad6-971cad8a0a2e",
   "metadata": {},
   "source": [
    "# Roulette Method"
   ]
  },
  {
   "cell_type": "code",
   "execution_count": 208,
   "id": "2999e138-691f-48a5-b78a-c3583b19fcaf",
   "metadata": {
    "tags": []
   },
   "outputs": [
    {
     "name": "stdout",
     "output_type": "stream",
     "text": [
      "[5, 14, 16, 6, 1, 10, 3, 19, 7, 18, 11, 8, 4, 17, 15, 13, 0, 9, 2, 12]\n"
     ]
    }
   ],
   "source": [
    "total_fs = sum(map(lambda x: fitness_score(x, adj_matrix), population))\n",
    "random_fs = random.uniform(0, total_fs)\n",
    "for i in range(len(sorted_population)):\n",
    "    random_fs -= fitness_score(population[i], adj_matrix)\n",
    "    if random_fs < 0:\n",
    "        print(population[i])\n",
    "        break"
   ]
  },
  {
   "cell_type": "code",
   "execution_count": 209,
   "id": "45ec9539-6a46-4975-907a-46e2b2d4275c",
   "metadata": {},
   "outputs": [],
   "source": [
    "def roulette(sorted_population, adj_matrix):\n",
    "    total_fs = sum(map(lambda x: fitness_score(x, adj_matrix), sorted_population))\n",
    "    random_fs = random.uniform(0, total_fs)\n",
    "    for i in range(len(sorted_population)):\n",
    "        random_fs -= fitness_score(sorted_population[i], adj_matrix)\n",
    "        if random_fs < 0:\n",
    "            return population[i]"
   ]
  },
  {
   "cell_type": "markdown",
   "id": "6c533c92-5a73-4957-8164-4f29958037bc",
   "metadata": {},
   "source": [
    "## Order Crossover"
   ]
  },
  {
   "cell_type": "code",
   "execution_count": 210,
   "id": "202c3453-8a47-4db8-a688-06c407921095",
   "metadata": {},
   "outputs": [],
   "source": [
    "# Define the order-based crossover function\n",
    "def order_crossover(parent1, parent2):\n",
    "    # Choose a random subset of genes from the first parent\n",
    "    start = np.random.randint(len(parent1))\n",
    "    end = np.random.randint(start, len(parent1))\n",
    "    subset = parent1[start:end+1]\n",
    "    # Initialize the child with the subset\n",
    "    child = [-1] * len(parent1)\n",
    "    child[start:end+1] = subset\n",
    "    # Fill in the remaining genes from the second parent\n",
    "    j = 0\n",
    "    for i in range(len(parent1)):\n",
    "        if not parent2[i] in subset:\n",
    "            while child[j] != -1:\n",
    "                j += 1\n",
    "            child[j] = parent2[i]\n",
    "    return child"
   ]
  },
  {
   "cell_type": "markdown",
   "id": "4ef95eb5-091f-405d-b150-2caa4dacd810",
   "metadata": {},
   "source": [
    "## Genetic Algorithm"
   ]
  },
  {
   "cell_type": "code",
   "execution_count": 211,
   "id": "bfdf2fba-13fb-4327-bf15-421212d2b897",
   "metadata": {},
   "outputs": [],
   "source": [
    "def genetic_algorithm(adj_matrix, population):\n",
    "    \n",
    "    sorted_population = order_by_fs(adj_matrix, population)\n",
    "\n",
    "    cross_over_perc = 0.8\n",
    "    child_population = []\n",
    "    for _ in range(80):\n",
    "        parent1 = roulette(sorted_population, adj_matrix)\n",
    "        parent2 = roulette(sorted_population, adj_matrix)\n",
    "\n",
    "        child = order_crossover(parent1, parent2)\n",
    "        child_population.append(child)\n",
    "\n",
    "    new_population = child_population + sorted_population[:20]\n",
    "    sorted_population = order_by_fs(adj_matrix, population)\n",
    "    return sorted_population"
   ]
  },
  {
   "cell_type": "markdown",
   "id": "1e2602e6-35fd-4a91-bdd2-6d528d780ba2",
   "metadata": {},
   "source": [
    "## Plot Travel"
   ]
  },
  {
   "cell_type": "code",
   "execution_count": 212,
   "id": "08094548-2edf-48bf-ad11-714072c678e5",
   "metadata": {},
   "outputs": [],
   "source": [
    "def plot_travel(city, optimal_path):\n",
    "    plt.plot(city.iloc[optimal_path,:].iloc[:,0], city.iloc[optimal_path,:].iloc[:,1])\n",
    "    plt.show()"
   ]
  },
  {
   "cell_type": "code",
   "execution_count": 1,
   "id": "bb160f83-ae4f-462e-bd98-f2a922e0333e",
   "metadata": {},
   "outputs": [],
   "source": [
    "def make_adj_matrix(city):\n",
    "    adj_matrix = pd.DataFrame(index = [i for i in range(len(city))], columns = [i for i in range(20)])\n",
    "    for i in range(20):\n",
    "        for j in range(20): #set range(i+1) if you want to make a lower triangle\n",
    "            lat1 = math.radians(city.iloc[i, 0])\n",
    "            long1 = math.radians(city.iloc[i, 1])\n",
    "            lat2 = math.radians(city.iloc[j, 0])\n",
    "            long2 = math.radians(city.iloc[j,1])\n",
    "            adj_matrix.iloc[i, j] = great_circle_dist(lat1, lat2, long1, long2)\n",
    "    return np.array(adj_matrix)"
   ]
  },
  {
   "cell_type": "code",
   "execution_count": 214,
   "id": "51575fd7-aa48-465a-92a8-6fa280a8ebaf",
   "metadata": {},
   "outputs": [],
   "source": [
    "import pandas as pd\n",
    "import numpy as np\n",
    "import random\n",
    "import matplotlib.pyplot as plt\n",
    "import math"
   ]
  },
  {
   "cell_type": "code",
   "execution_count": 215,
   "id": "2bbbd57c-d7df-4fa9-8b55-b0a97492af8d",
   "metadata": {},
   "outputs": [],
   "source": [
    "atlanta = pd.read_csv('./data_file/Atlanta.csv', index_col = [0])\n",
    "boston = pd.read_csv('./data_file/Boston.csv', index_col = [0])\n",
    "denver = pd.read_csv('./data_file/Denver.csv', index_col = [0])"
   ]
  },
  {
   "cell_type": "code",
   "execution_count": 216,
   "id": "f7e938ec-2104-4baa-89ad-bad91dbd67d4",
   "metadata": {},
   "outputs": [],
   "source": [
    "city = atlanta"
   ]
  },
  {
   "cell_type": "markdown",
   "id": "71866e0a-3aa7-4429-baa3-177d03af63f1",
   "metadata": {},
   "source": [
    "# Adjacency Matrix"
   ]
  },
  {
   "cell_type": "code",
   "execution_count": 217,
   "id": "047a1e7b-d45d-4bfa-baaf-ff5906b86046",
   "metadata": {},
   "outputs": [],
   "source": [
    "adj_matrix = make_adj_matrix(city)"
   ]
  },
  {
   "cell_type": "code",
   "execution_count": 218,
   "id": "5aeb1b66-81f9-4c0c-883a-b5298d3eca74",
   "metadata": {},
   "outputs": [
    {
     "data": {
      "text/plain": [
       "(20, 20)"
      ]
     },
     "execution_count": 218,
     "metadata": {},
     "output_type": "execute_result"
    }
   ],
   "source": [
    "adj_matrix.shape"
   ]
  },
  {
   "cell_type": "markdown",
   "id": "379004f2-ab74-498e-9e51-d124c5af957a",
   "metadata": {},
   "source": [
    "# Generate Population"
   ]
  },
  {
   "cell_type": "code",
   "execution_count": 219,
   "id": "946d8fc3-9cfb-4b6e-9c92-4e5fa59c25ed",
   "metadata": {},
   "outputs": [],
   "source": [
    "mutation_rate = 0.1\n",
    "path = greedy_path\n",
    "population = []\n",
    "for i in range(100):\n",
    "    population.append(mutate_path(mutation_rate, path))"
   ]
  },
  {
   "cell_type": "code",
   "execution_count": 220,
   "id": "a1f29df9-398e-43ae-9bc8-e8cf6cdd6c6c",
   "metadata": {},
   "outputs": [
    {
     "data": {
      "text/plain": [
       "[0, 6, 1, 2, 16, 12, 8, 11, 10, 19, 4, 17, 13, 7, 14, 18, 9, 15, 3, 5]"
      ]
     },
     "execution_count": 220,
     "metadata": {},
     "output_type": "execute_result"
    }
   ],
   "source": [
    "greedy_path"
   ]
  },
  {
   "cell_type": "code",
   "execution_count": 221,
   "id": "9fb11914-be06-4c21-8d4b-6bf65dae303c",
   "metadata": {},
   "outputs": [
    {
     "data": {
      "image/png": "[encoded data removed]",
      "text/plain": [
       "<Figure size 640x480 with 1 Axes>"
      ]
     },
     "metadata": {},
     "output_type": "display_data"
    }
   ],
   "source": [
    "plot_travel(city,greedy_path)"
   ]
  },
  {
   "cell_type": "code",
   "execution_count": null,
   "id": "a7f44149-0bca-4471-9347-c8b07e8f86e4",
   "metadata": {},
   "outputs": [
    {
     "name": "stdout",
     "output_type": "stream",
     "text": [
      "10%\n",
      "20%\n"
     ]
    }
   ],
   "source": [
    "perc_completed = 0\n",
    "random.seed(2023)\n",
    "for _ in range(10000):\n",
    "    if _ % 1000 == 0:\n",
    "        perc_completed += 10\n",
    "        print(\"{}%\".format(perc_completed))\n",
    "    population = genetic_algorithm(adj_matrix, population)\n",
    "population[0]"
   ]
  },
  {
   "cell_type": "code",
   "execution_count": null,
   "id": "7e7f9af3-baec-4740-a9a7-c7750cde1e32",
   "metadata": {},
   "outputs": [],
   "source": [
    "plot_travel(city, population[0])"
   ]
  },
  {
   "cell_type": "code",
   "execution_count": null,
   "id": "4f48ca50-173c-4279-b0e3-d9236a09a329",
   "metadata": {},
   "outputs": [],
   "source": [
    "fitness_score(population[0], adj_matrix)"
   ]
  },
  {
   "cell_type": "code",
   "execution_count": null,
   "id": "1ee72e17-747a-48c6-b603-781e06a32e6c",
   "metadata": {},
   "outputs": [],
   "source": [
    "# Define the two parent lists\n",
    "parent1 = [0, 1, 2, 3, 4, 5, 6, 7, 8, 9, 10, 11, 12, 13, 14, 15, 16, 17, 18, 19]\n",
    "parent2 = [19, 18, 17, 16, 15, 14, 13, 12, 11, 10, 9, 8, 7, 6, 5, 4, 3, 2, 1, 0]\n",
    "\n",
    "# Define the order-based crossover function\n",
    "def order_crossover(parent1, parent2):\n",
    "    # Choose a random subset of genes from the first parent\n",
    "    start = np.random.randint(len(parent1))\n",
    "    end = np.random.randint(start, len(parent1))\n",
    "    subset = parent1[start:end+1]\n",
    "    # Initialize the child with the subset\n",
    "    child = [-1] * len(parent1)\n",
    "    child[start:end+1] = subset\n",
    "    # Fill in the remaining genes from the second parent\n",
    "    j = 0\n",
    "    for i in range(len(parent1)):\n",
    "        if not parent2[i] in subset:\n",
    "            while child[j] != -1:\n",
    "                j += 1\n",
    "            child[j] = parent2[i]\n",
    "    return child\n",
    "\n",
    "# Perform order-based crossover between the two parent lists\n",
    "child = order_crossover(parent1, parent2)\n",
    "\n",
    "# Print the results\n",
    "print('Parent 1:', parent1)\n",
    "print('Parent 2:', parent2)\n",
    "print('Child:', child)"
   ]
  },
  {
   "cell_type": "code",
   "execution_count": null,
   "id": "3fb55264-ca47-441a-a141-6edf9479b834",
   "metadata": {},
   "outputs": [],
   "source": []
  },
  {
   "cell_type": "code",
   "execution_count": null,
   "id": "91aa6150-4bee-49aa-9fe8-296c272b4271",
   "metadata": {},
   "outputs": [],
   "source": []
  },
  {
   "cell_type": "markdown",
   "id": "2c9fb2ce-84d4-44cb-80c9-d6507433875d",
   "metadata": {},
   "source": [
    "# Scrap Code"
   ]
  },
  {
   "cell_type": "code",
   "execution_count": null,
   "id": "1713dabd-d8e5-411d-8dae-c6d981260f96",
   "metadata": {},
   "outputs": [],
   "source": [
    "def find_greedy_path(adj_matrix):\n",
    "    visited_path = [0,]\n",
    "    i = 0\n",
    "    for _ in range(20):\n",
    "        adj_matrix = adj_matrix.sort_values(i)\n",
    "        for idx in adj_matrix.index:\n",
    "            if idx not in visited_path:\n",
    "                visited_path.append(idx)\n",
    "                i = idx\n",
    "                break\n",
    "                \n",
    "    return visited_path"
   ]
  },
  {
   "cell_type": "code",
   "execution_count": null,
   "id": "1c952903-4318-4af8-b876-e54f3536500b",
   "metadata": {},
   "outputs": [],
   "source": [
    "adj_matrix_df = pd.DataFrame(adj_matrix)"
   ]
  },
  {
   "cell_type": "code",
   "execution_count": null,
   "id": "2c8c0848-7f82-4d93-8789-4b7e2ca61066",
   "metadata": {},
   "outputs": [],
   "source": [
    "greedy_path = find_greedy_path(adj_matrix_df)"
   ]
  },
  {
   "cell_type": "code",
   "execution_count": null,
   "id": "3d784c2b-8c38-493e-8b1b-0f314682b927",
   "metadata": {},
   "outputs": [],
   "source": [
    "city = atlanta\n",
    "adj_matrix = pd.DataFrame(make_adj_matrix(city))\n",
    "greedy_path = find_greedy_path(adj_matrix)\n",
    "plot_travel(city, greedy_path)"
   ]
  },
  {
   "cell_type": "code",
   "execution_count": null,
   "id": "3dbe3949-ed60-4243-a731-4f2d953327de",
   "metadata": {},
   "outputs": [],
   "source": [
    "adj_matrix_df = pd.DataFrame(adj_matrix)\n",
    "adj_matrix_df.sort_values(0)"
   ]
  },
  {
   "cell_type": "code",
   "execution_count": null,
   "id": "fecd257f-0ba9-4a29-835d-a8fcad18779a",
   "metadata": {},
   "outputs": [],
   "source": [
    "mutation_rate = 0.1\n",
    "path = [i for i in range(20)]\n",
    "population = []\n",
    "random.seed(1234)\n",
    "for i in range(100):\n",
    "    population.append(mutate_path(mutation_rate, path))"
   ]
  },
  {
   "cell_type": "code",
   "execution_count": null,
   "id": "8a53e47d-39fd-4633-bf35-a0c92d70020d",
   "metadata": {},
   "outputs": [],
   "source": [
    "plot_travel(city, greedy_path)\n",
    "print(fitness_score(path, adj_matrix))"
   ]
  },
  {
   "cell_type": "code",
   "execution_count": null,
   "id": "1b6b4189-9739-410f-8a5c-33c497797e79",
   "metadata": {},
   "outputs": [],
   "source": [
    "plot_travel(city, path)\n",
    "print(fitness_score(path, adj_matrix))"
   ]
  },
  {
   "cell_type": "code",
   "execution_count": null,
   "id": "a3d28f38-5ce9-4adc-8f46-4e6e9e4f88fd",
   "metadata": {},
   "outputs": [],
   "source": [
    "perc_completed = 0\n",
    "random.seed(2023)\n",
    "for _ in range(10000):\n",
    "    if _ % 1000 == 0:\n",
    "        perc_completed += 10\n",
    "        print(\"{}%\".format(perc_completed))\n",
    "    population = genetic_algorithm(adj_matrix, population)\n",
    "population[0]"
   ]
  },
  {
   "cell_type": "code",
   "execution_count": null,
   "id": "ad96524a-3c63-4a45-8314-2d59da8f5ba9",
   "metadata": {},
   "outputs": [],
   "source": [
    "plot_travel(city, population[0])\n",
    "print(fitness_score(population[0], adj_matrix))"
   ]
  },
  {
   "cell_type": "code",
   "execution_count": null,
   "id": "fe599103-f0ca-48e6-9c3b-99c834ae1dad",
   "metadata": {},
   "outputs": [],
   "source": [
    "fs_list = [fitness_score(sample, adj_matrix) for sample in population]"
   ]
  },
  {
   "cell_type": "code",
   "execution_count": null,
   "id": "cbdeb653-2753-409d-a1e9-af69d9e813a0",
   "metadata": {},
   "outputs": [],
   "source": [
    "len(fs_list)"
   ]
  },
  {
   "cell_type": "code",
   "execution_count": null,
   "id": "5ca8945f-3dfc-425d-ab26-f28007af4b47",
   "metadata": {},
   "outputs": [],
   "source": [
    "from random import sample"
   ]
  },
  {
   "cell_type": "code",
   "execution_count": null,
   "id": "ef3fb3e7-d095-4154-b46f-cd9d8eea278d",
   "metadata": {},
   "outputs": [],
   "source": [
    "population = []\n",
    "population_size = 1000\n",
    "\n",
    "random.seed(1234)\n",
    "\n",
    "for _ in range(population_size):\n",
    "    random_sample = random.sample([i for i in range(20)], 20)\n",
    "    population.append(random_sample)\n",
    "    \n",
    "perc_completed = 0\n",
    "    \n",
    "for _ in range(10000):\n",
    "    if _ % 1000 == 0:\n",
    "        perc_completed += 10\n",
    "        print(\"{}%\".format(perc_completed))\n",
    "    population = genetic_algorithm(adj_matrix, population)\n",
    "population[0]"
   ]
  },
  {
   "cell_type": "code",
   "execution_count": null,
   "id": "66b19ea8-37e4-4027-8237-1f438a6fcd98",
   "metadata": {},
   "outputs": [],
   "source": [
    "plot_travel(city, population[0])\n",
    "print(fitness_score(population[0],adj_matrix))"
   ]
  },
  {
   "cell_type": "code",
   "execution_count": null,
   "id": "60070a47-d139-4b39-9742-451ae5a18d4f",
   "metadata": {},
   "outputs": [],
   "source": []
  }
 ],
 "metadata": {
  "kernelspec": {
   "display_name": "Python 3 (ipykernel)",
   "language": "python",
   "name": "python3"
  },
  "language_info": {
   "codemirror_mode": {
    "name": "ipython",
    "version": 3
   },
   "file_extension": ".py",
   "mimetype": "text/x-python",
   "name": "python",
   "nbconvert_exporter": "python",
   "pygments_lexer": "ipython3",
   "version": "3.10.9"
  }
 },
 "nbformat": 4,
 "nbformat_minor": 5
}
